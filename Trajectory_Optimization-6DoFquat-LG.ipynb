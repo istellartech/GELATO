{
 "cells": [
  {
   "cell_type": "code",
   "execution_count": null,
   "id": "b9744167-75ed-4fad-bfc8-092d597c120d",
   "metadata": {},
   "outputs": [],
   "source": [
    "import numpy as np\n",
    "import pandas as pd\n",
    "import matplotlib.pyplot as plt"
   ]
  },
  {
   "cell_type": "code",
   "execution_count": null,
   "id": "e942a53c-d994-43e7-ba70-321b714e06b4",
   "metadata": {},
   "outputs": [],
   "source": [
    "mission_name = \"Zero-20220221\""
   ]
  },
  {
   "cell_type": "code",
   "execution_count": null,
   "id": "5cc28fe5-9164-4059-a98a-1c8877e743dd",
   "metadata": {},
   "outputs": [],
   "source": [
    "%run -i Trajectory_Optimization.py Zero-new"
   ]
  },
  {
   "cell_type": "code",
   "execution_count": null,
   "id": "4659e27e-028e-4c8e-9678-c48dd6602a89",
   "metadata": {},
   "outputs": [],
   "source": [
    "display_6DoF(out)"
   ]
  },
  {
   "cell_type": "code",
   "execution_count": null,
   "id": "b97ae3ad-1082-4adb-999d-7e930baf2375",
   "metadata": {},
   "outputs": [],
   "source": [
    "out.loc[:,[\"time\",\"heading\",\"pitch\",\"roll\"]].to_csv(\"../RocketSim/bin/input/OptResult-Attitude.csv\",index=None)"
   ]
  },
  {
   "cell_type": "code",
   "execution_count": null,
   "id": "21b5049c-c3c7-497a-bed6-594f91593b90",
   "metadata": {},
   "outputs": [],
   "source": [
    "ref = pd.read_csv(\"ALMA/ZERO_NOMINAL_2201.csv\",skiprows=[0,1,2])"
   ]
  },
  {
   "cell_type": "code",
   "execution_count": null,
   "id": "b149e62a-6ab1-473e-ae7d-e7938a65d6e0",
   "metadata": {},
   "outputs": [],
   "source": [
    "df = pd.read_csv(\"../RocketSim/bin/output/OptResult-out.csv\")"
   ]
  },
  {
   "cell_type": "code",
   "execution_count": null,
   "id": "f35f4e54-f8d5-486b-af8b-2a2ec5a885e1",
   "metadata": {},
   "outputs": [],
   "source": [
    "plt.plot(ref[\"time\"],ref[\"h\"],lw=0.8)\n",
    "plt.plot(out[\"time\"],out[\"alt\"])\n",
    "plt.plot(df[\"time\"],df[\"alt\"])\n",
    "plt.grid()\n",
    "\n",
    "df1  = np.interp(out[\"time\"], df[\"time\"], df[\"alt\"])\n",
    "plt.figure()\n",
    "plt.plot(out[\"time\"], df1-out[\"alt\"], \".--\", lw=0.8)\n",
    "plt.xlim([0,500])\n",
    "plt.grid()"
   ]
  },
  {
   "cell_type": "code",
   "execution_count": null,
   "id": "8e655d5c-3273-444e-b586-054058a3cdb3",
   "metadata": {},
   "outputs": [],
   "source": [
    "plt.plot(ref[\"time\"], ref[\"ha\"], lw=0.8)\n",
    "plt.plot(out[\"time\"], out[\"ha\"],\".:\")\n",
    "plt.plot(df[\"time\"], df[\"ha\"])\n",
    "plt.xlim([0,500])\n",
    "plt.ylim([-20,None])\n",
    "plt.grid()\n",
    "\n",
    "df1  = np.interp(out[\"time\"], df[\"time\"], df[\"ha\"])\n",
    "plt.figure()\n",
    "plt.plot(out[\"time\"], df1-out[\"ha\"], \".--\", lw=0.8)\n",
    "plt.xlim([0,500])\n",
    "plt.grid()"
   ]
  },
  {
   "cell_type": "code",
   "execution_count": null,
   "id": "5de4054d-59ec-446e-ba39-4c5b4631685b",
   "metadata": {},
   "outputs": [],
   "source": [
    "plt.plot(ref[\"time\"], ref[\"hp\"], lw=0.8)\n",
    "plt.plot(out[\"time\"], out[\"hp\"],\".:\")\n",
    "plt.plot(df[\"time\"], df[\"hp\"])\n",
    "plt.xlim([0,500])\n",
    "plt.ylim([-1000,None])\n",
    "plt.grid()\n",
    "\n",
    "df1  = np.interp(out[\"time\"], df[\"time\"], df[\"hp\"])\n",
    "plt.figure()\n",
    "plt.plot(out[\"time\"], df1-out[\"hp\"], \".--\", lw=0.8)\n",
    "plt.xlim([0,500])\n",
    "plt.grid()"
   ]
  },
  {
   "cell_type": "code",
   "execution_count": null,
   "id": "91f448b2-fffc-49e6-bff2-dd0376a75b57",
   "metadata": {},
   "outputs": [],
   "source": [
    "plt.plot(out[\"time\"],out[\"vr\"],\".:\")\n",
    "plt.plot(df[\"time\"],df[\"vel_ground\"])\n",
    "plt.xlim([0,500])\n",
    "plt.grid()\n",
    "\n",
    "df1  = np.interp(out[\"time\"], df[\"time\"], df[\"vel_ground\"])\n",
    "plt.figure()\n",
    "plt.plot(out[\"time\"], df1-out[\"vr\"], \".--\", lw=0.8)\n",
    "plt.xlim([0,500])\n",
    "plt.grid()"
   ]
  },
  {
   "cell_type": "code",
   "execution_count": null,
   "id": "c1fa0bd0-7694-4d44-b0c9-8e190bc91a31",
   "metadata": {},
   "outputs": [],
   "source": [
    "plt.plot(ref[\"time\"],ref[\"eularGDB[1]\"],lw=0.8)\n",
    "plt.plot(out[\"time\"],out[\"pitch\"],\".:\")\n",
    "plt.plot(df[\"time\"],df[\"pitch\"].to_numpy('f8'),lw=0.8)\n",
    "plt.grid()\n",
    "\n",
    "df1  = np.interp(out[\"time\"], df[\"time\"], df[\"pitch\"])\n",
    "plt.figure()\n",
    "plt.plot(out[\"time\"], df1-out[\"pitch\"], \".--\", lw=0.8)\n",
    "plt.xlim([0,500])\n",
    "plt.grid()"
   ]
  },
  {
   "cell_type": "code",
   "execution_count": null,
   "id": "abe08fe9-d854-46c2-ba1e-17293352787e",
   "metadata": {},
   "outputs": [],
   "source": [
    "plt.plot(ref[\"time\"],ref[\"eularGDB[2]\"],lw=0.8)\n",
    "plt.plot(out[\"time\"],out[\"heading\"],\".:\")\n",
    "plt.plot(df[\"time\"],df[\"heading\"].to_numpy('f8'),lw=0.8)\n",
    "plt.ylim([60,120])\n",
    "plt.grid()"
   ]
  },
  {
   "cell_type": "code",
   "execution_count": null,
   "id": "f7da8ea7-3c69-4a38-a06e-9d069e333124",
   "metadata": {},
   "outputs": [],
   "source": [
    "plt.plot(out[\"time\"],out[[\"quat_i2b_0\",\"quat_i2b_1\",\"quat_i2b_2\",\"quat_i2b_3\"]],\".:\")\n",
    "plt.plot(df[\"time\"],df[[\"quat_i2b_0\",\"quat_i2b_1\",\"quat_i2b_2\",\"quat_i2b_3\"]].to_numpy('f8'),lw=0.8)\n",
    "plt.ylim([-1,1])\n",
    "plt.grid()"
   ]
  },
  {
   "cell_type": "code",
   "execution_count": null,
   "id": "c1af0d1c-83c8-4842-8067-1d9c0dd3ede9",
   "metadata": {},
   "outputs": [],
   "source": [
    "#plt.plot(ref[\"time\"],ref[\"axb\"])\n",
    "plt.plot(out[\"time\"],out[\"accel_X\"],\".:\")\n",
    "plt.plot(df[\"time\"],df[\"acc_BODY_X\"])\n",
    "plt.grid()\n",
    "\n",
    "df1  = np.interp(out[\"time\"], df[\"time\"], df[\"acc_BODY_X\"])\n",
    "plt.figure()\n",
    "plt.plot(out[\"time\"], df1-out[\"accel_X\"], \".--\", lw=0.8)\n",
    "plt.xlim([0,500])\n",
    "plt.ylim([-0.05,0.05])\n",
    "plt.grid()"
   ]
  },
  {
   "cell_type": "code",
   "execution_count": null,
   "id": "7a1e8cd9-31f4-40d7-98da-fa3c256bd9ad",
   "metadata": {},
   "outputs": [],
   "source": [
    "plt.plot(ref[\"time\"],ref[\"Fr\"],lw=0.8)\n",
    "plt.plot(out[\"time\"],out[\"thrust\"],\"--\")\n",
    "plt.plot(df[\"time\"],df[\"thrust\"],\"--\")\n",
    "plt.grid()\n",
    "\n",
    "df1  = np.interp(out[\"time\"], df[\"time\"], df[\"thrust\"])\n",
    "plt.figure()\n",
    "plt.plot(out[\"time\"], df1-out[\"thrust\"], \".--\", lw=0.8)\n",
    "plt.xlim([0,500])\n",
    "plt.ylim([-300,300])\n",
    "plt.grid()"
   ]
  },
  {
   "cell_type": "code",
   "execution_count": null,
   "id": "fc72d51c-1e38-4bf1-bd74-dcd3f541c561",
   "metadata": {},
   "outputs": [],
   "source": [
    "#plt.plot(ref[\"time\"],ref[\"weight\"])\n",
    "plt.plot(out[\"time\"],out[\"mass\"],lw=0.8)\n",
    "plt.plot(df[\"time\"],df[\"total mass\"],lw=0.8)\n",
    "plt.xlim([0,500])\n",
    "plt.grid()\n",
    "\n",
    "df1  = np.interp(out[\"time\"], df[\"time\"], df[\"total mass\"])\n",
    "plt.figure()\n",
    "plt.plot(out[\"time\"], df1-out[\"mass\"], \".--\", lw=0.8)\n",
    "plt.xlim([0,500])\n",
    "plt.ylim([-0.1,0.1])\n",
    "plt.grid()"
   ]
  },
  {
   "cell_type": "code",
   "execution_count": null,
   "id": "d4f5fc48-fb61-42a3-8495-e711df8c5e00",
   "metadata": {},
   "outputs": [],
   "source": [
    "plt.plot(ref[\"time\"],ref[\"q\"])\n",
    "plt.plot(out[\"time\"],out[\"q\"],\".:\",lw=0.8)\n",
    "plt.plot(df[\"time\"],df[\"q\"],lw=0.8)\n",
    "plt.xlim([0,500])\n",
    "plt.yscale('log')\n",
    "plt.ylim([1e-3,None])\n",
    "plt.grid()"
   ]
  },
  {
   "cell_type": "code",
   "execution_count": null,
   "id": "cad1840a-d3be-440a-84a2-4f99a1657e73",
   "metadata": {},
   "outputs": [],
   "source": [
    "plt.plot(ref[\"time\"],ref[\"alphaq\"])\n",
    "plt.plot(out[\"time\"],out[\"q\"]*out[\"aoa_total\"],\".:\",lw=0.8)\n",
    "plt.plot(df[\"time\"],df[\"q\"]*df[\"aoa_alpha\"],lw=0.8)\n",
    "plt.xlim([0,500])\n",
    "plt.grid()"
   ]
  },
  {
   "cell_type": "code",
   "execution_count": null,
   "id": "fd69fe93-83ec-4b2f-83a8-80e4d6d7e396",
   "metadata": {},
   "outputs": [],
   "source": []
  }
 ],
 "metadata": {
  "kernelspec": {
   "display_name": "Python3.7(intel)",
   "language": "python",
   "name": "python3.7-intel"
  },
  "language_info": {
   "codemirror_mode": {
    "name": "ipython",
    "version": 3
   },
   "file_extension": ".py",
   "mimetype": "text/x-python",
   "name": "python",
   "nbconvert_exporter": "python",
   "pygments_lexer": "ipython3",
   "version": "3.7.10"
  }
 },
 "nbformat": 4,
 "nbformat_minor": 5
}
